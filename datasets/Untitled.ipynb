{
 "cells": [
  {
   "cell_type": "code",
   "execution_count": 19,
   "metadata": {},
   "outputs": [],
   "source": [
    "import pandas as pd"
   ]
  },
  {
   "cell_type": "code",
   "execution_count": 148,
   "metadata": {},
   "outputs": [],
   "source": [
    "d = pd.read_csv(\"books.csv\")"
   ]
  },
  {
   "cell_type": "code",
   "execution_count": 149,
   "metadata": {},
   "outputs": [
    {
     "data": {
      "text/plain": [
       "(2138, 8)"
      ]
     },
     "execution_count": 149,
     "metadata": {},
     "output_type": "execute_result"
    }
   ],
   "source": [
    "d.shape"
   ]
  },
  {
   "cell_type": "code",
   "execution_count": 103,
   "metadata": {},
   "outputs": [
    {
     "data": {
      "text/html": [
       "<div>\n",
       "<style scoped>\n",
       "    .dataframe tbody tr th:only-of-type {\n",
       "        vertical-align: middle;\n",
       "    }\n",
       "\n",
       "    .dataframe tbody tr th {\n",
       "        vertical-align: top;\n",
       "    }\n",
       "\n",
       "    .dataframe thead th {\n",
       "        text-align: right;\n",
       "    }\n",
       "</style>\n",
       "<table border=\"1\" class=\"dataframe\">\n",
       "  <thead>\n",
       "    <tr style=\"text-align: right;\">\n",
       "      <th></th>\n",
       "      <th>id</th>\n",
       "      <th>title</th>\n",
       "      <th>author</th>\n",
       "      <th>rating</th>\n",
       "      <th>tags</th>\n",
       "      <th>volume</th>\n",
       "      <th>image</th>\n",
       "      <th>link</th>\n",
       "    </tr>\n",
       "  </thead>\n",
       "  <tbody>\n",
       "    <tr>\n",
       "      <th>1218</th>\n",
       "      <td>1657</td>\n",
       "      <td>Собор. Роман с архитектурой</td>\n",
       "      <td>Ирина Измайлова</td>\n",
       "      <td>0.0</td>\n",
       "      <td>['Биографии и мемуары', 'Историческая литерату...</td>\n",
       "      <td>800</td>\n",
       "      <td>https://cv8.litres.ru/pub/c/elektronnaya-kniga...</td>\n",
       "      <td>https://www.litres.ru/irina-izmaylova/sobor-ro...</td>\n",
       "    </tr>\n",
       "    <tr>\n",
       "      <th>1219</th>\n",
       "      <td>1658</td>\n",
       "      <td>Star dust</td>\n",
       "      <td>Elizabeth</td>\n",
       "      <td>0.0</td>\n",
       "      <td>['Короткие любовные романы', 'Современная русс...</td>\n",
       "      <td>28</td>\n",
       "      <td>https://cv8.litres.ru/pub/c/elektronnaya-kniga...</td>\n",
       "      <td>https://www.litres.ru/elizabeth-26964602/star-...</td>\n",
       "    </tr>\n",
       "    <tr>\n",
       "      <th>1220</th>\n",
       "      <td>1659</td>\n",
       "      <td>NOVA</td>\n",
       "      <td>Cary Ponsar</td>\n",
       "      <td>0.0</td>\n",
       "      <td>['Контркультура']</td>\n",
       "      <td>350</td>\n",
       "      <td>https://cv6.litres.ru/pub/c/elektronnaya-kniga...</td>\n",
       "      <td>https://www.litres.ru/cary-ponsar/nova/</td>\n",
       "    </tr>\n",
       "    <tr>\n",
       "      <th>1221</th>\n",
       "      <td>1660</td>\n",
       "      <td>История одной болезни</td>\n",
       "      <td>Егор Андреевич Архипов</td>\n",
       "      <td>0.0</td>\n",
       "      <td>['Современная русская литература', 'Рассказы',...</td>\n",
       "      <td>8</td>\n",
       "      <td>https://cv8.litres.ru/pub/c/elektronnaya-kniga...</td>\n",
       "      <td>https://www.litres.ru/egor-andreevich-arhipov/...</td>\n",
       "    </tr>\n",
       "    <tr>\n",
       "      <th>1222</th>\n",
       "      <td>1661</td>\n",
       "      <td>Маленькие рассказы Демари</td>\n",
       "      <td>Ирина Смоленкова</td>\n",
       "      <td>5.0</td>\n",
       "      <td>['Современная русская литература', 'Заниматель...</td>\n",
       "      <td>50</td>\n",
       "      <td>https://cv9.litres.ru/pub/c/elektronnaya-kniga...</td>\n",
       "      <td>https://www.litres.ru/irina-smolenkova/malenki...</td>\n",
       "    </tr>\n",
       "  </tbody>\n",
       "</table>\n",
       "</div>"
      ],
      "text/plain": [
       "        id                        title                  author  rating  \\\n",
       "1218  1657  Собор. Роман с архитектурой         Ирина Измайлова     0.0   \n",
       "1219  1658                    Star dust               Elizabeth     0.0   \n",
       "1220  1659                         NOVA             Cary Ponsar     0.0   \n",
       "1221  1660        История одной болезни  Егор Андреевич Архипов     0.0   \n",
       "1222  1661    Маленькие рассказы Демари        Ирина Смоленкова     5.0   \n",
       "\n",
       "                                                   tags volume  \\\n",
       "1218  ['Биографии и мемуары', 'Историческая литерату...    800   \n",
       "1219  ['Короткие любовные романы', 'Современная русс...     28   \n",
       "1220                                  ['Контркультура']    350   \n",
       "1221  ['Современная русская литература', 'Рассказы',...      8   \n",
       "1222  ['Современная русская литература', 'Заниматель...     50   \n",
       "\n",
       "                                                  image  \\\n",
       "1218  https://cv8.litres.ru/pub/c/elektronnaya-kniga...   \n",
       "1219  https://cv8.litres.ru/pub/c/elektronnaya-kniga...   \n",
       "1220  https://cv6.litres.ru/pub/c/elektronnaya-kniga...   \n",
       "1221  https://cv8.litres.ru/pub/c/elektronnaya-kniga...   \n",
       "1222  https://cv9.litres.ru/pub/c/elektronnaya-kniga...   \n",
       "\n",
       "                                                   link  \n",
       "1218  https://www.litres.ru/irina-izmaylova/sobor-ro...  \n",
       "1219  https://www.litres.ru/elizabeth-26964602/star-...  \n",
       "1220            https://www.litres.ru/cary-ponsar/nova/  \n",
       "1221  https://www.litres.ru/egor-andreevich-arhipov/...  \n",
       "1222  https://www.litres.ru/irina-smolenkova/malenki...  "
      ]
     },
     "execution_count": 103,
     "metadata": {},
     "output_type": "execute_result"
    }
   ],
   "source": [
    "d.tail()"
   ]
  },
  {
   "cell_type": "code",
   "execution_count": 134,
   "metadata": {},
   "outputs": [],
   "source": [
    "d_classics = pd.read_csv(\"classics.csv\")"
   ]
  },
  {
   "cell_type": "code",
   "execution_count": 135,
   "metadata": {},
   "outputs": [
    {
     "data": {
      "text/plain": [
       "(439, 8)"
      ]
     },
     "execution_count": 135,
     "metadata": {},
     "output_type": "execute_result"
    }
   ],
   "source": [
    "d_classics.shape"
   ]
  },
  {
   "cell_type": "code",
   "execution_count": 146,
   "metadata": {},
   "outputs": [],
   "source": [
    "d_self_dev = pd.read_csv(\"self_development.csv\")"
   ]
  },
  {
   "cell_type": "code",
   "execution_count": 147,
   "metadata": {},
   "outputs": [
    {
     "data": {
      "text/plain": [
       "(1809, 8)"
      ]
     },
     "execution_count": 147,
     "metadata": {},
     "output_type": "execute_result"
    }
   ],
   "source": [
    "d_self_dev.shape"
   ]
  },
  {
   "cell_type": "code",
   "execution_count": 156,
   "metadata": {},
   "outputs": [],
   "source": [
    "d_love_novels = pd.read_csv(\"love_novels.csv\")"
   ]
  },
  {
   "cell_type": "code",
   "execution_count": 157,
   "metadata": {},
   "outputs": [
    {
     "data": {
      "text/plain": [
       "(1964, 8)"
      ]
     },
     "execution_count": 157,
     "metadata": {},
     "output_type": "execute_result"
    }
   ],
   "source": [
    "d_love_novels.shape"
   ]
  },
  {
   "cell_type": "code",
   "execution_count": 152,
   "metadata": {},
   "outputs": [],
   "source": [
    "d_fantasy = pd.read_csv(\"fantasy.csv\")"
   ]
  },
  {
   "cell_type": "code",
   "execution_count": 155,
   "metadata": {},
   "outputs": [
    {
     "name": "stdout",
     "output_type": "stream",
     "text": [
      "Fantasy shape = (1746, 8)\n"
     ]
    }
   ],
   "source": [
    "print(\"Fantasy shape =\", d_fantasy.shape)"
   ]
  },
  {
   "cell_type": "code",
   "execution_count": 160,
   "metadata": {},
   "outputs": [],
   "source": [
    "d_detectives = pd.read_csv(\"detectives.csv\")"
   ]
  },
  {
   "cell_type": "code",
   "execution_count": 161,
   "metadata": {},
   "outputs": [
    {
     "data": {
      "text/plain": [
       "(2138, 8)"
      ]
     },
     "execution_count": 161,
     "metadata": {},
     "output_type": "execute_result"
    }
   ],
   "source": [
    "d.shape"
   ]
  }
 ],
 "metadata": {
  "kernelspec": {
   "display_name": "Python 3",
   "language": "python",
   "name": "python3"
  },
  "language_info": {
   "codemirror_mode": {
    "name": "ipython",
    "version": 3
   },
   "file_extension": ".py",
   "mimetype": "text/x-python",
   "name": "python",
   "nbconvert_exporter": "python",
   "pygments_lexer": "ipython3",
   "version": "3.6.9"
  }
 },
 "nbformat": 4,
 "nbformat_minor": 4
}
